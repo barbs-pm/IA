{
  "nbformat": 4,
  "nbformat_minor": 0,
  "metadata": {
    "kernelspec": {
      "display_name": "Python 3",
      "language": "python",
      "name": "python3"
    },
    "language_info": {
      "codemirror_mode": {
        "name": "ipython",
        "version": 3
      },
      "file_extension": ".py",
      "mimetype": "text/x-python",
      "name": "python",
      "nbconvert_exporter": "python",
      "pygments_lexer": "ipython3",
      "version": "3.7.3"
    },
    "colab": {
      "name": "Tarefa1 - RNA simples.ipynb",
      "provenance": []
    }
  },
  "cells": [
    {
      "cell_type": "markdown",
      "metadata": {
        "id": "jK0YXexynA7s"
      },
      "source": [
        "# Rede Neural Simples\n",
        "\n",
        "### Implementando uma RNA Simples\n",
        "\n",
        "O diagrama abaixo mostra uma rede simples. A combinação linear dos pesos, inputs e viés formam o input h, que então é passado pela função de ativação f(h), gerando o output final do perceptron, etiquetado como y.\n",
        " <img src='RNA-simples.png' /><br>\n",
        "\n",
        "<p style=\"text-align:center\">  <i> Diagrama de uma rede neural simples</i> </p>\n",
        " \n",
        "\n",
        "Círculos são unidades, caixas são operações. O que faz as redes neurais possíveis, é que a função de ativação, f(h) pode ser qualquer função, não apenas a função degrau.\n",
        "\n",
        "<p> Por exemplo, caso f(h)=h, o output será o mesmo que o input. Agora o output da rede é </p>\n",
        "\n",
        "<p style=\"text-align:center\"> $$h = \\frac 1n\\sum_{i=1}^n(w_i*x_i)+b$$  </p>\n",
        "\n",
        "<p> Essa equação deveria ser familiar para você, pois é a mesma do modelo de regressão linear!\n",
        "Outras funções de ativação comuns são a função logística (também chamada de sigmóide), tanh e a função softmax. Nós iremos trabalhar principalmente com a função sigmóide pelo resto dessa aula:</p>\n",
        "\n",
        "\n",
        "$$f(h) = sigmoid(h)=\\frac 1 {1+e^{-h}}$$\n",
        "    \n",
        "\n"
      ]
    },
    {
      "cell_type": "markdown",
      "metadata": {
        "id": "i94gOnfInA7x"
      },
      "source": [
        "## Vamos implementar uma RNA de apenas um neurônio!\n",
        "\n",
        "#### Importando a biblioteca"
      ]
    },
    {
      "cell_type": "code",
      "metadata": {
        "id": "kwxq8vf2nA7x"
      },
      "source": [
        "import numpy as np"
      ],
      "execution_count": 1,
      "outputs": []
    },
    {
      "cell_type": "markdown",
      "metadata": {
        "id": "S0H9c5ybnA7y"
      },
      "source": [
        "#### Função do cáculo da sigmóide"
      ]
    },
    {
      "cell_type": "code",
      "metadata": {
        "id": "uvb9zaPrnA7y"
      },
      "source": [
        "def sigmoid(x):\n",
        "    return 1/(1+np.exp(-x))"
      ],
      "execution_count": 2,
      "outputs": []
    },
    {
      "cell_type": "markdown",
      "metadata": {
        "id": "I1n3AONpnA7z"
      },
      "source": [
        "#### Vetor dos valores de entrada"
      ]
    },
    {
      "cell_type": "code",
      "metadata": {
        "id": "-QaJdb7OnA70"
      },
      "source": [
        "x = np.array([0.2,-0.5])\n",
        "b=0.1"
      ],
      "execution_count": 3,
      "outputs": []
    },
    {
      "cell_type": "markdown",
      "metadata": {
        "id": "ONTBsO68nA70"
      },
      "source": [
        "#### Pesos das ligações sinápticas"
      ]
    },
    {
      "cell_type": "code",
      "metadata": {
        "id": "aeQYPFzJnA70"
      },
      "source": [
        "w = np.array([0.6,-0.4])"
      ],
      "execution_count": 4,
      "outputs": []
    },
    {
      "cell_type": "markdown",
      "metadata": {
        "id": "JL4d397CnA71"
      },
      "source": [
        "#### Calcule a combinação linear de entradas e pesos sinápticos"
      ]
    },
    {
      "cell_type": "code",
      "metadata": {
        "id": "JsLK87s3nA71"
      },
      "source": [
        "h=np.dot(x,w)+b"
      ],
      "execution_count": 5,
      "outputs": []
    },
    {
      "cell_type": "markdown",
      "metadata": {
        "id": "MmM3W3lanA72"
      },
      "source": [
        "#### Aplicado a função de ativação do neurônio"
      ]
    },
    {
      "cell_type": "code",
      "metadata": {
        "id": "vJ02Pws_nA72"
      },
      "source": [
        "y=sigmoid(h)"
      ],
      "execution_count": 6,
      "outputs": []
    },
    {
      "cell_type": "code",
      "metadata": {
        "colab": {
          "base_uri": "https://localhost:8080/"
        },
        "id": "-wFQNzqXnA72",
        "outputId": "ed0ccb74-d95d-4b89-f516-cdc46b5eecba"
      },
      "source": [
        "print('A saída da rede é',y)"
      ],
      "execution_count": 7,
      "outputs": [
        {
          "output_type": "stream",
          "text": [
            "A saída da rede é 0.6034832498647263\n"
          ],
          "name": "stdout"
        }
      ]
    },
    {
      "cell_type": "code",
      "metadata": {
        "id": "javNf2C2nA72"
      },
      "source": [
        ""
      ],
      "execution_count": null,
      "outputs": []
    },
    {
      "cell_type": "code",
      "metadata": {
        "id": "8MiKRT9snA73"
      },
      "source": [
        ""
      ],
      "execution_count": null,
      "outputs": []
    }
  ]
}