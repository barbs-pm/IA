{
  "nbformat": 4,
  "nbformat_minor": 0,
  "metadata": {
    "kernelspec": {
      "display_name": "Python 3",
      "language": "python",
      "name": "python3"
    },
    "language_info": {
      "codemirror_mode": {
        "name": "ipython",
        "version": 3
      },
      "file_extension": ".py",
      "mimetype": "text/x-python",
      "name": "python",
      "nbconvert_exporter": "python",
      "pygments_lexer": "ipython3",
      "version": "3.7.3"
    },
    "colab": {
      "name": "Solucao Tarefa 3 - AtualizaPesos.ipynb",
      "provenance": []
    }
  },
  "cells": [
    {
      "cell_type": "markdown",
      "metadata": {
        "id": "KymSuh_EqwSw"
      },
      "source": [
        "# Gradiente Descendente\n",
        "\n",
        "O gradiente descendente é um algoritmo de otimização que usa as derivadas da função objetivo\n",
        "para encontrar o ponto com maior inclinação. No processo, as variáveis a otimizar são deslocadas\n",
        "em uma direção negativa o qual reduzirá o valor da função objetivo.\n",
        "\n",
        "Algoritmo geral para atualizar os pesos com gradiente descendente:\n",
        "<p>\n",
        "<img src='RNA-Gradiente.png' /><br>\n",
        "</p>"
      ]
    },
    {
      "cell_type": "markdown",
      "metadata": {
        "id": "rnffIGb3qwS0"
      },
      "source": [
        "## Vamos implementar o algoritmo do Gradiente Descendente!\n",
        "#### Importando a biblioteca"
      ]
    },
    {
      "cell_type": "code",
      "metadata": {
        "id": "F2G3uyG3qwS2"
      },
      "source": [
        "import numpy as np"
      ],
      "execution_count": 1,
      "outputs": []
    },
    {
      "cell_type": "markdown",
      "metadata": {
        "id": "bfR7d8JeqwS3"
      },
      "source": [
        "#### Função do cáculo da sigmóide"
      ]
    },
    {
      "cell_type": "code",
      "metadata": {
        "id": "E8k8l9fSqwS3"
      },
      "source": [
        "def sigmoid(x):\n",
        "    return 1/(1+np.exp(-x))"
      ],
      "execution_count": 2,
      "outputs": []
    },
    {
      "cell_type": "markdown",
      "metadata": {
        "id": "j4JVjMhsqwS4"
      },
      "source": [
        "#### Derivada da função sigmóide"
      ]
    },
    {
      "cell_type": "code",
      "metadata": {
        "id": "PqhRruVBqwS4"
      },
      "source": [
        "def sigmoid_prime(x):\n",
        "    return sigmoid(x) * (1 - sigmoid(x))"
      ],
      "execution_count": 3,
      "outputs": []
    },
    {
      "cell_type": "markdown",
      "metadata": {
        "id": "oNFrsBvqqwS5"
      },
      "source": [
        "#### Vetor dos valores de entrada e saídas"
      ]
    },
    {
      "cell_type": "code",
      "metadata": {
        "id": "UB4PuotOqwS5"
      },
      "source": [
        "x = np.array([1, 2, 3, 4])\n",
        "y = np.array(0.5)\n",
        "b= 0.5"
      ],
      "execution_count": 4,
      "outputs": []
    },
    {
      "cell_type": "markdown",
      "metadata": {
        "id": "iaTyAEzPqwS5"
      },
      "source": [
        "#### Pesos iniciais das ligações sinápticas \n",
        "Nota: Inicializados aleatóriamente"
      ]
    },
    {
      "cell_type": "code",
      "metadata": {
        "colab": {
          "base_uri": "https://localhost:8080/"
        },
        "id": "r0ftuz5OqwS6",
        "outputId": "0c5b333e-513d-469d-abb5-3612ecb8253b"
      },
      "source": [
        "w = np.random.randn(4)/10\n",
        "print(w)"
      ],
      "execution_count": 5,
      "outputs": [
        {
          "output_type": "stream",
          "text": [
            "[ 0.12827831 -0.00181952  0.01080582  0.11309232]\n"
          ],
          "name": "stdout"
        }
      ]
    },
    {
      "cell_type": "markdown",
      "metadata": {
        "id": "N9pfVmP0qwS7"
      },
      "source": [
        "#### Taxa de Aprendizagem"
      ]
    },
    {
      "cell_type": "code",
      "metadata": {
        "id": "rm9btXJuqwS7"
      },
      "source": [
        "learnrate = 0.5"
      ],
      "execution_count": 6,
      "outputs": []
    },
    {
      "cell_type": "markdown",
      "metadata": {
        "id": "v_WVxz7aqwS7"
      },
      "source": [
        "### Calcule um degrau de descida gradiente para cada peso"
      ]
    },
    {
      "cell_type": "markdown",
      "metadata": {
        "id": "XEqotNeJqwS7"
      },
      "source": [
        "#### Critério de parada\n",
        "* **Epochs**: Número de Épocas\n",
        "* **MinError**: Erro mínimo estipulado\n"
      ]
    },
    {
      "cell_type": "code",
      "metadata": {
        "id": "IlYyi6OyqwS7"
      },
      "source": [
        "\n",
        "\n",
        "#Número de Épocas\n",
        "epochs=100\n",
        "\n",
        "#Inicilizando del_w\n",
        "del_w=0\n",
        "\n",
        "for e in range(epochs):\n",
        "    # TODO: Calcule a combinação linear de entradas e pesos sinápticos\n",
        "    h = np.dot(x, w)\n",
        "\n",
        "    # TODO: Calcule a saída da Rede Neural\n",
        "    output = sigmoid(h)\n",
        "\n",
        "    # TODO: Calcule o erro da Rede Neural\n",
        "    error = y - output\n",
        "\n",
        "    # TODO: Calcule o termo de erro\n",
        "    error_term = error * sigmoid_prime(h)\n",
        "\n",
        "    # TODO: Calcule a variação do peso\n",
        "    del_w = learnrate * error_term * x\n",
        "\n",
        "    # TODO: Atualização do Peso\n",
        "    w = w + del_w\n",
        "    \n",
        "#    print(w)\n",
        "#    print(output)\n",
        "#    print(error)"
      ],
      "execution_count": 9,
      "outputs": []
    },
    {
      "cell_type": "code",
      "metadata": {
        "colab": {
          "base_uri": "https://localhost:8080/"
        },
        "id": "ds1REguzqwS8",
        "outputId": "584d11f6-3bfa-445f-9094-1b9149810c44"
      },
      "source": [
        "print('Saída da Rede Neural:')\n",
        "print(output)\n",
        "print('Erro:',error)\n"
      ],
      "execution_count": 10,
      "outputs": [
        {
          "output_type": "stream",
          "text": [
            "Saída da Rede Neural:\n",
            "0.5\n",
            "Erro: 0.0\n"
          ],
          "name": "stdout"
        }
      ]
    },
    {
      "cell_type": "code",
      "metadata": {
        "id": "ZRLykv6VqwS9"
      },
      "source": [
        ""
      ],
      "execution_count": null,
      "outputs": []
    },
    {
      "cell_type": "code",
      "metadata": {
        "id": "Zn8JgkRVqwS9"
      },
      "source": [
        ""
      ],
      "execution_count": null,
      "outputs": []
    }
  ]
}