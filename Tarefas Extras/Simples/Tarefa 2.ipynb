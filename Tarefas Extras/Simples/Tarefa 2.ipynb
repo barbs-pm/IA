{
  "nbformat": 4,
  "nbformat_minor": 0,
  "metadata": {
    "kernelspec": {
      "display_name": "Python 3",
      "language": "python",
      "name": "python3"
    },
    "language_info": {
      "codemirror_mode": {
        "name": "ipython",
        "version": 3
      },
      "file_extension": ".py",
      "mimetype": "text/x-python",
      "name": "python",
      "nbconvert_exporter": "python",
      "pygments_lexer": "ipython3",
      "version": "3.7.3"
    },
    "colab": {
      "name": "Solucao Tarefa 2 - Gradiente.ipynb",
      "provenance": []
    }
  },
  "cells": [
    {
      "cell_type": "markdown",
      "metadata": {
        "id": "mEdIFzIxpFWt"
      },
      "source": [
        "## Cálculo do gradiente"
      ]
    },
    {
      "cell_type": "code",
      "metadata": {
        "id": "AmC9SobxpFW1"
      },
      "source": [
        "import numpy as np"
      ],
      "execution_count": 1,
      "outputs": []
    },
    {
      "cell_type": "code",
      "metadata": {
        "id": "LJedp_hrpFW2"
      },
      "source": [
        "def sigmoid(x):\n",
        "    return 1/(1+np.exp(-x))"
      ],
      "execution_count": 2,
      "outputs": []
    },
    {
      "cell_type": "code",
      "metadata": {
        "id": "L34SI7fopFW3"
      },
      "source": [
        "def sigmoid_prime(x):\n",
        "        return sigmoid(x) * (1 - sigmoid(x))"
      ],
      "execution_count": 3,
      "outputs": []
    },
    {
      "cell_type": "code",
      "metadata": {
        "id": "hAUMNpVYpFW3"
      },
      "source": [
        "learnrate = 0.5\n",
        "x = np.array([3, 1, 2, 4])\n",
        "y = np.array(0.5)\n",
        "b = 0.5"
      ],
      "execution_count": 5,
      "outputs": []
    },
    {
      "cell_type": "code",
      "metadata": {
        "id": "aEPggICxpFW9"
      },
      "source": [
        "# Pesos iniciais\n",
        "w = np.array([0.1, -0.2, 0.3, 0.4])"
      ],
      "execution_count": 6,
      "outputs": []
    },
    {
      "cell_type": "code",
      "metadata": {
        "id": "21usQweipFW-"
      },
      "source": [
        "h = np.dot(x, w)+b"
      ],
      "execution_count": 7,
      "outputs": []
    },
    {
      "cell_type": "code",
      "metadata": {
        "colab": {
          "base_uri": "https://localhost:8080/"
        },
        "id": "fJFvksmupFW-",
        "outputId": "4bbf3310-9bef-407e-be89-0480eb3abd95"
      },
      "source": [
        "nn_output = sigmoid(h)\n",
        "print(nn_output)"
      ],
      "execution_count": 8,
      "outputs": [
        {
          "output_type": "stream",
          "text": [
            "0.9426758241011313\n"
          ],
          "name": "stdout"
        }
      ]
    },
    {
      "cell_type": "code",
      "metadata": {
        "colab": {
          "base_uri": "https://localhost:8080/"
        },
        "id": "r04VPwkIpFW_",
        "outputId": "43ee4668-cd87-4d2e-c365-e4e99d0dbe30"
      },
      "source": [
        "# TODO: erro Calcular de rede neural \n",
        "error = y - nn_output\n",
        "print(error)"
      ],
      "execution_count": 9,
      "outputs": [
        {
          "output_type": "stream",
          "text": [
            "-0.44267582410113127\n"
          ],
          "name": "stdout"
        }
      ]
    },
    {
      "cell_type": "code",
      "metadata": {
        "id": "eOS8SUmspFXA"
      },
      "source": [
        "# TODO: Calcule o termo de erro \n",
        "error_term = error * sigmoid_prime(h)"
      ],
      "execution_count": 10,
      "outputs": []
    },
    {
      "cell_type": "code",
      "metadata": {
        "id": "z5FtsNOfpFXA"
      },
      "source": [
        "# TODO: Calcule a mudança nos pesos\n",
        "del_w = learnrate * error_term * x"
      ],
      "execution_count": 12,
      "outputs": []
    },
    {
      "cell_type": "code",
      "metadata": {
        "colab": {
          "base_uri": "https://localhost:8080/"
        },
        "id": "MBKV-ijxpFXB",
        "outputId": "62033d16-acbe-4d40-edd9-add5a8fc9d79"
      },
      "source": [
        "print(del_w)"
      ],
      "execution_count": 13,
      "outputs": [
        {
          "output_type": "stream",
          "text": [
            "[-0.03588205 -0.01196068 -0.02392137 -0.04784273]\n"
          ],
          "name": "stdout"
        }
      ]
    },
    {
      "cell_type": "code",
      "metadata": {
        "id": "fjOkc2hypFXC"
      },
      "source": [
        "w = w + del_w"
      ],
      "execution_count": 14,
      "outputs": []
    },
    {
      "cell_type": "code",
      "metadata": {
        "colab": {
          "base_uri": "https://localhost:8080/"
        },
        "id": "Ao0LSGj6pFXC",
        "outputId": "8375cef3-d63b-4f62-8f38-a99baf8e98fc"
      },
      "source": [
        "print(w)"
      ],
      "execution_count": 15,
      "outputs": [
        {
          "output_type": "stream",
          "text": [
            "[ 0.06411795 -0.21196068  0.27607863  0.35215727]\n"
          ],
          "name": "stdout"
        }
      ]
    },
    {
      "cell_type": "code",
      "metadata": {
        "id": "1WaQH5SDpFXC"
      },
      "source": [
        "h = np.dot(x, w)+b"
      ],
      "execution_count": 16,
      "outputs": []
    },
    {
      "cell_type": "code",
      "metadata": {
        "colab": {
          "base_uri": "https://localhost:8080/"
        },
        "id": "hil31chMpFXC",
        "outputId": "2d45b05b-d799-4088-d7bd-01f38fe10858"
      },
      "source": [
        "nn_output = sigmoid(h)\n",
        "print(nn_output)"
      ],
      "execution_count": 17,
      "outputs": [
        {
          "output_type": "stream",
          "text": [
            "0.9199140268993846\n"
          ],
          "name": "stdout"
        }
      ]
    },
    {
      "cell_type": "code",
      "metadata": {
        "id": "zR7KxOiRpFXD"
      },
      "source": [
        ""
      ],
      "execution_count": null,
      "outputs": []
    }
  ]
}