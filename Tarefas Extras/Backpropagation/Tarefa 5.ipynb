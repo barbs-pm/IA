{
  "nbformat": 4,
  "nbformat_minor": 0,
  "metadata": {
    "kernelspec": {
      "display_name": "Python 3",
      "language": "python",
      "name": "python3"
    },
    "language_info": {
      "codemirror_mode": {
        "name": "ipython",
        "version": 3
      },
      "file_extension": ".py",
      "mimetype": "text/x-python",
      "name": "python",
      "nbconvert_exporter": "python",
      "pygments_lexer": "ipython3",
      "version": "3.7.3"
    },
    "colab": {
      "name": "Solução Tarefa5 - RNA MPL backward.ipynb",
      "provenance": []
    }
  },
  "cells": [
    {
      "cell_type": "markdown",
      "metadata": {
        "id": "s6u839y8sF0G"
      },
      "source": [
        "# Rede Neural Multicamadas (MPL)\n",
        "Uma rede MPL é uma classe de rede neural artificial *feedforward* (ANN). Um MLP consiste em pelo menos três camadas de nós: uma camada de entrada , uma camada oculta e uma camada de saída . Exceto para os nós de entrada, cada nó é um neurônio que usa uma função de ativação não linear . O MPL utiliza uma técnica de aprendizado supervisionado chamada *backpropagation* para treinamento.\n",
        "\n",
        "\n",
        "\n",
        "### Implementando uma RNA multicamadas\n",
        "\n",
        "A imagem a seguir mostra a nossa rede, com as unidades de entrada marcadas como Input1, Input2 e Input3 (**Input Layer**) conectadas com os *nós* da camada oculta (**Hidden Layer**). Por sua vez as saída dos *nós* da camada oculda servem como entrada para os *nós*  da camada de saída (**Output Layer**). <img src='MPL.png' /><br>\n",
        "\n",
        "<p style=\"text-align:center\">  <i> Diagrama de uma MPL</i> </p>\n",
        " \n",
        "\n",
        "Lembrando que em cada *nó* temos: \n",
        "\n",
        "$$f(h) = sigmoid(h)=\\frac 1 {1+e^{-h}}$$  \n",
        "\n",
        "onde\n",
        "\n",
        "<p style=\"text-align:center\"> $$h = \\frac 1n\\sum_{i=1}^n(w_i*x_i)+b$$  </p>\n",
        "\n",
        "\n",
        "\n",
        "\n",
        "    \n",
        "\n"
      ]
    },
    {
      "cell_type": "markdown",
      "metadata": {
        "id": "Yv0piSUDsF0L"
      },
      "source": [
        "## Configuração da MPL"
      ]
    },
    {
      "cell_type": "code",
      "metadata": {
        "id": "_1PDZF7ssF0L"
      },
      "source": [
        "#Importando a biblioteca\n",
        "import numpy as np\n",
        "\n",
        "#Função do cáculo da sigmóide\n",
        "def sigmoid(x):\n",
        "    return 1/(1+np.exp(-x))\n",
        "\n",
        "#Arquitetura da MPL\n",
        "N_input = 3\n",
        "N_hidden = 5\n",
        "N_output = 4\n",
        "\n",
        "#Vetor dos valores de entrada\n",
        "x = np.array([0.1, 0.2, -0.6])\n",
        "target =np.array([0.7, 0.2])\n",
        "learnrate = 0.5\n",
        "\n",
        "#Pesos da Camada Oculta\n",
        "\n",
        "weights_input_hidden = np.array([[-0.07,  0.06, -0.05, 0.03],\n",
        "                              [ 0.06,  0.10,  0.07, 0.02],\n",
        "                              [-0.07,  0.04, -0.02, 0.01]])\n",
        "\n",
        "#Pesos da Camada de Saída\n",
        "weights_hidden_output = np.array([[-0.18,  0.11],\n",
        "                               [-0.08,  0.05],\n",
        "                               [-0.04,  0.07],\n",
        "                               [-0.03,  0.07]])\n",
        "\n"
      ],
      "execution_count": 1,
      "outputs": []
    },
    {
      "cell_type": "markdown",
      "metadata": {
        "id": "MQtw_fAssF0N"
      },
      "source": [
        "### Forward Pass"
      ]
    },
    {
      "cell_type": "code",
      "metadata": {
        "scrolled": true,
        "colab": {
          "base_uri": "https://localhost:8080/"
        },
        "id": "9Pp1UP2BsF0O",
        "outputId": "ecb88a88-9df6-4f6e-b1fa-5a32530ec1fd"
      },
      "source": [
        "hidden_layer_input = np.dot(x, weights_input_hidden)\n",
        "hidden_layer_output = sigmoid(hidden_layer_input)\n",
        "\n",
        "output_layer_in = np.dot(hidden_layer_output, weights_hidden_output)\n",
        "\n",
        "output = sigmoid(output_layer_in)\n",
        "\n",
        "print('As saídas da rede são',output)\n"
      ],
      "execution_count": 2,
      "outputs": [
        {
          "output_type": "stream",
          "text": [
            "As saídas da rede são [0.45825438 0.537853  ]\n"
          ],
          "name": "stdout"
        }
      ]
    },
    {
      "cell_type": "markdown",
      "metadata": {
        "id": "DOvKlYYRsF0P"
      },
      "source": [
        "## Backward Pass"
      ]
    },
    {
      "cell_type": "code",
      "metadata": {
        "scrolled": true,
        "colab": {
          "base_uri": "https://localhost:8080/"
        },
        "id": "Polja131sF0Q",
        "outputId": "ff64cbe1-47b4-4647-eda9-69e54f2014df"
      },
      "source": [
        "error = target - output\n",
        "\n",
        "output_error_term = error * output * (1 - output)\n",
        "\n",
        "hidden_error = np.dot(weights_hidden_output,output_error_term)\n",
        "\n",
        "hidden_error_term = hidden_error * hidden_layer_output * (1 - hidden_layer_output)\n",
        "\n",
        "delta_w_h_o = learnrate * output_error_term*hidden_layer_output[:, None]\n",
        "print('delta_w_h_o: ',delta_w_h_o)\n",
        "\n",
        "delta_w_i_h = learnrate * hidden_error_term * x[:, None]\n",
        "print('delta_w_i_h: ',delta_w_i_h)\n",
        "\n"
      ],
      "execution_count": 3,
      "outputs": [
        {
          "output_type": "stream",
          "text": [
            "delta_w_h_o:  [[ 0.0153563  -0.02148808]\n",
            " [ 0.01501878 -0.02101578]\n",
            " [ 0.01516131 -0.02121523]\n",
            " [ 0.01501128 -0.02100529]]\n",
            "delta_w_i_h:  [[-2.50367059e-04 -1.12501976e-04 -1.03477911e-04 -9.59874061e-05]\n",
            " [-5.00734118e-04 -2.25003951e-04 -2.06955821e-04 -1.91974812e-04]\n",
            " [ 1.50220235e-03  6.75011853e-04  6.20867464e-04  5.75924437e-04]]\n"
          ],
          "name": "stdout"
        }
      ]
    },
    {
      "cell_type": "markdown",
      "metadata": {
        "id": "jRctmSfQsF0Q"
      },
      "source": [
        "### Atualização dos Pesos"
      ]
    },
    {
      "cell_type": "code",
      "metadata": {
        "colab": {
          "base_uri": "https://localhost:8080/"
        },
        "id": "zJub-NjUsF0R",
        "outputId": "61e45fe6-85ae-4bc2-f136-5694156292a2"
      },
      "source": [
        "weights_input_hidden = learnrate * delta_w_i_h\n",
        "print('weights_input_hidden: ',weights_input_hidden)\n",
        "weights_hidden_output = learnrate * delta_w_h_o\n",
        "print('weights_hidden_output: ',weights_hidden_output)"
      ],
      "execution_count": 4,
      "outputs": [
        {
          "output_type": "stream",
          "text": [
            "weights_input_hidden:  [[-1.25183529e-04 -5.62509878e-05 -5.17389553e-05 -4.79937031e-05]\n",
            " [-2.50367059e-04 -1.12501976e-04 -1.03477911e-04 -9.59874061e-05]\n",
            " [ 7.51101176e-04  3.37505927e-04  3.10433732e-04  2.87962218e-04]]\n",
            "weights_hidden_output:  [[ 0.00767815 -0.01074404]\n",
            " [ 0.00750939 -0.01050789]\n",
            " [ 0.00758066 -0.01060761]\n",
            " [ 0.00750564 -0.01050264]]\n"
          ],
          "name": "stdout"
        }
      ]
    },
    {
      "cell_type": "code",
      "metadata": {
        "id": "CJL9vrA9sF0R"
      },
      "source": [
        ""
      ],
      "execution_count": null,
      "outputs": []
    }
  ]
}