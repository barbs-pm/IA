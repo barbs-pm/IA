{
  "nbformat": 4,
  "nbformat_minor": 0,
  "metadata": {
    "kernelspec": {
      "display_name": "Python 3",
      "language": "python",
      "name": "python3"
    },
    "language_info": {
      "codemirror_mode": {
        "name": "ipython",
        "version": 3
      },
      "file_extension": ".py",
      "mimetype": "text/x-python",
      "name": "python",
      "nbconvert_exporter": "python",
      "pygments_lexer": "ipython3",
      "version": "3.7.3"
    },
    "colab": {
      "name": "1.2-Exercicios.ipynb",
      "provenance": [],
      "collapsed_sections": []
    }
  },
  "cells": [
    {
      "cell_type": "markdown",
      "metadata": {
        "id": "6lud0BduSPfL",
        "colab_type": "text"
      },
      "source": [
        "# 1. Exercícios\n",
        "\n",
        "Este é um exercício opcional para testar sua compreensão do básico do Python. Se você acha isso extremamente desafiador, provavelmente ainda não está pronto para o restante desta disciplina e não possui experiência em programação suficiente para continuar."
      ]
    },
    {
      "cell_type": "markdown",
      "metadata": {
        "id": "txF3tvbmSPfN",
        "colab_type": "text"
      },
      "source": [
        "## Exercícios\n",
        "\n",
        "Responda às perguntas ou conclua as tarefas descritas em negrito abaixo, use o método específico descrito, se aplicável."
      ]
    },
    {
      "cell_type": "markdown",
      "metadata": {
        "id": "YIjlgltOSPfN",
        "colab_type": "text"
      },
      "source": [
        "**What is 7 to the power of 4?**"
      ]
    },
    {
      "cell_type": "code",
      "metadata": {
        "id": "jVE9xpNRSPfO",
        "colab_type": "code",
        "colab": {
          "base_uri": "https://localhost:8080/",
          "height": 34
        },
        "outputId": "c20a8589-8fd9-4438-a451-83867e9b22b8"
      },
      "source": [
        "7**4"
      ],
      "execution_count": 1,
      "outputs": [
        {
          "output_type": "execute_result",
          "data": {
            "text/plain": [
              "2401"
            ]
          },
          "metadata": {
            "tags": []
          },
          "execution_count": 1
        }
      ]
    },
    {
      "cell_type": "markdown",
      "metadata": {
        "id": "fjCiIZQXSPfQ",
        "colab_type": "text"
      },
      "source": [
        "**Split this string:**\n",
        "\n",
        "    s = \"Hi there Sam!\"\n",
        "    \n",
        "**into a list.**"
      ]
    },
    {
      "cell_type": "code",
      "metadata": {
        "id": "hCjUKdM-SPfR",
        "colab_type": "code",
        "colab": {}
      },
      "source": [
        "s = \"Hi there Sam!\""
      ],
      "execution_count": 0,
      "outputs": []
    },
    {
      "cell_type": "code",
      "metadata": {
        "id": "UvRzPLKgSPfS",
        "colab_type": "code",
        "colab": {
          "base_uri": "https://localhost:8080/",
          "height": 34
        },
        "outputId": "3e2910ae-651c-4bf4-c9fd-16ddaf509983"
      },
      "source": [
        "s.split()"
      ],
      "execution_count": 4,
      "outputs": [
        {
          "output_type": "execute_result",
          "data": {
            "text/plain": [
              "['Hi', 'there', 'Sam!']"
            ]
          },
          "metadata": {
            "tags": []
          },
          "execution_count": 4
        }
      ]
    },
    {
      "cell_type": "markdown",
      "metadata": {
        "id": "V-o3myBdSPfU",
        "colab_type": "text"
      },
      "source": [
        "**Given the variables:**\n",
        "\n",
        "    planet = \"Earth\"\n",
        "    diameter = 12742\n",
        "\n",
        "**Use .format() to print the following string:**\n",
        "\n",
        "    The diameter of Earth is 12742 kilometers."
      ]
    },
    {
      "cell_type": "code",
      "metadata": {
        "id": "PQXennllSPfU",
        "colab_type": "code",
        "colab": {}
      },
      "source": [
        "planet = \"Earth\"\n",
        "diameter = 12742"
      ],
      "execution_count": 0,
      "outputs": []
    },
    {
      "cell_type": "code",
      "metadata": {
        "id": "_5EA6GsmSPfX",
        "colab_type": "code",
        "colab": {
          "base_uri": "https://localhost:8080/",
          "height": 34
        },
        "outputId": "32309c9a-1ac2-4e0e-cd26-bfdf6fdd022f"
      },
      "source": [
        "print(\"The diameter of {planet} is {diameter} kilometers\".format(planet=planet, diameter=diameter))"
      ],
      "execution_count": 7,
      "outputs": [
        {
          "output_type": "stream",
          "text": [
            "The diameter of Earth is 12742 kilometers\n"
          ],
          "name": "stdout"
        }
      ]
    },
    {
      "cell_type": "markdown",
      "metadata": {
        "id": "iTmRTVL0SPfY",
        "colab_type": "text"
      },
      "source": [
        "**Given this nested list, use indexing to grab the word \"hello\"**"
      ]
    },
    {
      "cell_type": "code",
      "metadata": {
        "id": "WVUTg0jJSPfZ",
        "colab_type": "code",
        "colab": {}
      },
      "source": [
        "lst = [1,2,[3,4],[5,[100,200,['hello']],23,11],1,7]"
      ],
      "execution_count": 0,
      "outputs": []
    },
    {
      "cell_type": "code",
      "metadata": {
        "id": "Fnd2x0p5SPfa",
        "colab_type": "code",
        "colab": {
          "base_uri": "https://localhost:8080/",
          "height": 34
        },
        "outputId": "58c3b045-af12-4fc9-fe4f-2661712bfd22"
      },
      "source": [
        "lst[3][1][2]"
      ],
      "execution_count": 10,
      "outputs": [
        {
          "output_type": "execute_result",
          "data": {
            "text/plain": [
              "['hello']"
            ]
          },
          "metadata": {
            "tags": []
          },
          "execution_count": 10
        }
      ]
    },
    {
      "cell_type": "markdown",
      "metadata": {
        "id": "vo5XhEI4SPfc",
        "colab_type": "text"
      },
      "source": [
        "**Given this nested dictionary grab the word \"hello\". Be prepared, this will be annoying/tricky**"
      ]
    },
    {
      "cell_type": "code",
      "metadata": {
        "id": "1rFMLqDnSPfc",
        "colab_type": "code",
        "colab": {}
      },
      "source": [
        "d = {'k1':[1,2,3,{'tricky':['oh','man','inception',{'target':[1,2,3,'hello']}]}]}"
      ],
      "execution_count": 0,
      "outputs": []
    },
    {
      "cell_type": "code",
      "metadata": {
        "id": "qWxpIGAISPfe",
        "colab_type": "code",
        "colab": {
          "base_uri": "https://localhost:8080/",
          "height": 34
        },
        "outputId": "c277391a-1927-43ac-bdd3-779db5fc133d"
      },
      "source": [
        "d['k1'][3]['tricky'][3]['target'][3]"
      ],
      "execution_count": 17,
      "outputs": [
        {
          "output_type": "execute_result",
          "data": {
            "text/plain": [
              "'hello'"
            ]
          },
          "metadata": {
            "tags": []
          },
          "execution_count": 17
        }
      ]
    },
    {
      "cell_type": "markdown",
      "metadata": {
        "id": "QXnKMnonSPff",
        "colab_type": "text"
      },
      "source": [
        "**What is the main difference between a tuple and a list?**"
      ]
    },
    {
      "cell_type": "code",
      "metadata": {
        "id": "kCT7LISOSPfg",
        "colab_type": "code",
        "colab": {}
      },
      "source": [
        "#Tuple is immutable"
      ],
      "execution_count": 0,
      "outputs": []
    },
    {
      "cell_type": "markdown",
      "metadata": {
        "id": "cwoobx7zSPfi",
        "colab_type": "text"
      },
      "source": [
        "**Create a function that grabs the email website domain from a string in the form:**\n",
        "\n",
        "    user@domain.com\n",
        "    \n",
        "**So for example, passing \"user@domain.com\" would return: domain.com**"
      ]
    },
    {
      "cell_type": "code",
      "metadata": {
        "id": "1vUEaNu8SPfj",
        "colab_type": "code",
        "colab": {}
      },
      "source": [
        "def domainGet(email):\n",
        "  email = email.split('@')\n",
        "  domain = email[1]\n",
        "  print(domain)"
      ],
      "execution_count": 0,
      "outputs": []
    },
    {
      "cell_type": "code",
      "metadata": {
        "id": "DJC-f_lhSPfk",
        "colab_type": "code",
        "colab": {
          "base_uri": "https://localhost:8080/",
          "height": 34
        },
        "outputId": "217a0b9c-a04c-4685-883e-5bc9ae9db954"
      },
      "source": [
        "domainGet('user@domain.com')"
      ],
      "execution_count": 25,
      "outputs": [
        {
          "output_type": "stream",
          "text": [
            "domain.com\n"
          ],
          "name": "stdout"
        }
      ]
    },
    {
      "cell_type": "markdown",
      "metadata": {
        "id": "cIwNirY_SPfm",
        "colab_type": "text"
      },
      "source": [
        "**Create a basic function that returns True if the word 'dog' is contained in the input string. Don't worry about edge cases like a punctuation being attached to the word dog, but do account for capitalization.**"
      ]
    },
    {
      "cell_type": "code",
      "metadata": {
        "id": "QsbZY7NbSPfm",
        "colab_type": "code",
        "colab": {}
      },
      "source": [
        "def findDog(text):\n",
        "  text = text.split()\n",
        "  for word in text:\n",
        "    if word == 'dog':\n",
        "      return True\n",
        "  return False"
      ],
      "execution_count": 0,
      "outputs": []
    },
    {
      "cell_type": "code",
      "metadata": {
        "id": "SQaAf78OSPfo",
        "colab_type": "code",
        "colab": {
          "base_uri": "https://localhost:8080/",
          "height": 34
        },
        "outputId": "70ed8ddf-4f9b-4212-ff83-6c1a3eca66ed"
      },
      "source": [
        "if findDog('Is there a dog here?'):\n",
        "  print('Yep')\n",
        "else:\n",
        "  print('Nop')"
      ],
      "execution_count": 42,
      "outputs": [
        {
          "output_type": "stream",
          "text": [
            "Yep\n"
          ],
          "name": "stdout"
        }
      ]
    },
    {
      "cell_type": "markdown",
      "metadata": {
        "id": "aoUBhERdSPfp",
        "colab_type": "text"
      },
      "source": [
        "**Create a function that counts the number of times the word \"dog\" occurs in a string. Again ignore edge cases.**"
      ]
    },
    {
      "cell_type": "code",
      "metadata": {
        "id": "jeOyvRPoSPfq",
        "colab_type": "code",
        "colab": {}
      },
      "source": [
        "def countDog(text):\n",
        "  text = text.split()\n",
        "  count = 0\n",
        "  for word in text:\n",
        "    if word == 'dog':\n",
        "      count = count + 1\n",
        "  return count"
      ],
      "execution_count": 0,
      "outputs": []
    },
    {
      "cell_type": "code",
      "metadata": {
        "id": "kIwLzPD9SPfr",
        "colab_type": "code",
        "colab": {
          "base_uri": "https://localhost:8080/",
          "height": 34
        },
        "outputId": "adfdc2d2-2ba4-4902-bdda-45cbaea0baa0"
      },
      "source": [
        "count = countDog('This dog runs faster than the other dog dude!')\n",
        "print(count)"
      ],
      "execution_count": 44,
      "outputs": [
        {
          "output_type": "stream",
          "text": [
            "2\n"
          ],
          "name": "stdout"
        }
      ]
    },
    {
      "cell_type": "markdown",
      "metadata": {
        "id": "CI9dWvItSPfs",
        "colab_type": "text"
      },
      "source": [
        "**Use lambda expressions and the filter() function to filter out words from a list that don't start with the letter 's'. For example:**\n",
        "\n",
        "    seq = ['soup','dog','salad','cat','great']\n",
        "\n",
        "**should be filtered down to:**\n",
        "\n",
        "    ['soup','salad']"
      ]
    },
    {
      "cell_type": "code",
      "metadata": {
        "id": "v3838iSVSPft",
        "colab_type": "code",
        "colab": {}
      },
      "source": [
        "seq = ['soup','dog','salad','cat','great']"
      ],
      "execution_count": 0,
      "outputs": []
    },
    {
      "cell_type": "code",
      "metadata": {
        "id": "fu48LKe4SPfv",
        "colab_type": "code",
        "colab": {}
      },
      "source": [
        ""
      ],
      "execution_count": 0,
      "outputs": []
    },
    {
      "cell_type": "markdown",
      "metadata": {
        "id": "chlkifJUSPfz",
        "colab_type": "text"
      },
      "source": [
        "### Final Problem\n",
        "**You are driving a little too fast, and a police officer stops you. Write a function\n",
        "  to return one of 3 possible results: \"No ticket\", \"Small ticket\", or \"Big Ticket\". \n",
        "  If your speed is 60 or less, the result is \"No Ticket\". If speed is between 61 \n",
        "  and 80 inclusive, the result is \"Small Ticket\". If speed is 81 or more, the result is \"Big    Ticket\". Unless it is your birthday (encoded as a boolean value in the parameters of the function) -- on your birthday, your speed can be 5 higher in all \n",
        "  cases.**"
      ]
    },
    {
      "cell_type": "code",
      "metadata": {
        "id": "CXwo7Q9LSPf0",
        "colab_type": "code",
        "colab": {}
      },
      "source": [
        "def caught_speeding(speed, is_birthday):\n",
        "  if is_birthday:\n",
        "    noticketValue = 65\n",
        "    smallticketValue = 85\n",
        "  else:\n",
        "    noticketValue = 60\n",
        "    smallticketValue = 80\n",
        "  \n",
        "  if speed <= noticketValue:\n",
        "    print('No Ticket')\n",
        "  elif (noticketValue > 60) or (speed <= smallticketValue):\n",
        "    print('Small Ticket')\n",
        "  else:\n",
        "    print('Big Ticket')"
      ],
      "execution_count": 0,
      "outputs": []
    },
    {
      "cell_type": "code",
      "metadata": {
        "id": "mBgfR_CCSPf1",
        "colab_type": "code",
        "colab": {
          "base_uri": "https://localhost:8080/",
          "height": 34
        },
        "outputId": "387f9cc9-cb31-45e3-d36c-852817d138ac"
      },
      "source": [
        "caught_speeding(81,True)"
      ],
      "execution_count": 47,
      "outputs": [
        {
          "output_type": "stream",
          "text": [
            "Small Ticket\n"
          ],
          "name": "stdout"
        }
      ]
    },
    {
      "cell_type": "code",
      "metadata": {
        "id": "2VfzkGu1SPf3",
        "colab_type": "code",
        "colab": {
          "base_uri": "https://localhost:8080/",
          "height": 34
        },
        "outputId": "0634a26d-2728-4dbe-dd0b-c192b1339e6a"
      },
      "source": [
        "caught_speeding(81,False)"
      ],
      "execution_count": 48,
      "outputs": [
        {
          "output_type": "stream",
          "text": [
            "Big Ticket\n"
          ],
          "name": "stdout"
        }
      ]
    },
    {
      "cell_type": "markdown",
      "metadata": {
        "id": "5xnzUBEQSPf4",
        "colab_type": "text"
      },
      "source": [
        "# Great job!"
      ]
    }
  ]
}